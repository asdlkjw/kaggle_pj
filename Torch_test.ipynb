{
 "cells": [
  {
   "cell_type": "code",
   "execution_count": 21,
   "id": "87edc624",
   "metadata": {},
   "outputs": [],
   "source": [
    "# !pip freeze > /Users/ASUS/Desktop/workplace/kaggle_pj/requestments_torch_cuda.txt"
   ]
  },
  {
   "cell_type": "code",
   "execution_count": 22,
   "id": "1c1b7965",
   "metadata": {},
   "outputs": [
    {
     "name": "stdout",
     "output_type": "stream",
     "text": [
      "cuda on :  True\n"
     ]
    }
   ],
   "source": [
    "import pandas as pd\n",
    "import numpy as np\n",
    "import torch\n",
    "import torch.nn as nn\n",
    "\n",
    "import zipfile\n",
    "import warnings\n",
    "warnings.filterwarnings('ignore')\n",
    "\n",
    "\n",
    "from torch.utils.data import Dataset, DataLoader\n",
    "from torchcontrib.optim import SWA\n",
    "\n",
    "from sklearn.metrics import recall_score\n",
    "from sklearn.utils import shuffle\n",
    "from sklearn.model_selection import RepeatedKFold\n",
    "\n",
    "import albumentations as A\n",
    "from albumentations.pytorch import ToTensorV2\n",
    "\n",
    "import matplotlib.pyplot as plt\n",
    "import seaborn as sns\n",
    "from PIL import Image\n",
    "import cv2\n",
    "\n",
    "\n",
    "import joblib\n",
    "from tqdm.auto import tqdm\n",
    "print('cuda on : ', torch.cuda.is_available())"
   ]
  },
  {
   "cell_type": "code",
   "execution_count": 23,
   "id": "ea616b54",
   "metadata": {},
   "outputs": [],
   "source": [
    "import os\n",
    "os.environ[\"CUDA_DEVICE_ORDER\"]=\"PCI_BUS_ID\"   # see issue #152\n",
    "os.environ[\"CUDA_VISIBLE_DEVICES\"]=\"0\""
   ]
  },
  {
   "cell_type": "code",
   "execution_count": 24,
   "id": "9ab9dbe3",
   "metadata": {},
   "outputs": [],
   "source": [
    "name_label_dict = {\n",
    "0:  'Nucleoplasm',\n",
    "1:  'Nuclear membrane',\n",
    "2:  'Nucleoli',   \n",
    "3:  'Nucleoli fibrillar center',\n",
    "4:  'Nuclear speckles',\n",
    "5:  'Nuclear bodies',\n",
    "6:  'Endoplasmic reticulum',   \n",
    "7:  'Golgi apparatus',\n",
    "8:  'Peroxisomes',\n",
    "9:  'Endosomes',\n",
    "10:  'Lysosomes',\n",
    "11:  'Intermediate filaments',\n",
    "12:  'Actin filaments',\n",
    "13:  'Focal adhesion sites',   \n",
    "14:  'Microtubules',\n",
    "15:  'Microtubule ends',  \n",
    "16:  'Cytokinetic bridge',   \n",
    "17:  'Mitotic spindle',\n",
    "18:  'Microtubule organizing center',  \n",
    "19:  'Centrosome',\n",
    "20:  'Lipid droplets',\n",
    "21:  'Plasma membrane',   \n",
    "22:  'Cell junctions', \n",
    "23:  'Mitochondria',\n",
    "24:  'Aggresome',\n",
    "25:  'Cytosol',\n",
    "26:  'Cytoplasmic bodies',   \n",
    "27:  'Rods & rings' }"
   ]
  },
  {
   "cell_type": "code",
   "execution_count": 25,
   "id": "ff679e61",
   "metadata": {},
   "outputs": [],
   "source": [
    "# config\n",
    "\n",
    "index = 0\n",
    "HEIGHT = 256\n",
    "WIDTH = 256\n",
    "\n",
    "data_dir = \"/Users/ASUS/Desktop/test/human-protein-atlas-image-classification/\"\n"
   ]
  },
  {
   "cell_type": "code",
   "execution_count": 26,
   "id": "bdce049c",
   "metadata": {},
   "outputs": [],
   "source": [
    "df_train = pd.read_csv(f'{data_dir}/train.csv')"
   ]
  },
  {
   "cell_type": "code",
   "execution_count": 27,
   "id": "75a25519",
   "metadata": {},
   "outputs": [
    {
     "name": "stdout",
     "output_type": "stream",
     "text": [
      "CPU times: total: 0 ns\n",
      "Wall time: 0 ns\n"
     ]
    },
    {
     "data": {
      "text/html": [
       "<div>\n",
       "<style scoped>\n",
       "    .dataframe tbody tr th:only-of-type {\n",
       "        vertical-align: middle;\n",
       "    }\n",
       "\n",
       "    .dataframe tbody tr th {\n",
       "        vertical-align: top;\n",
       "    }\n",
       "\n",
       "    .dataframe thead th {\n",
       "        text-align: right;\n",
       "    }\n",
       "</style>\n",
       "<table border=\"1\" class=\"dataframe\">\n",
       "  <thead>\n",
       "    <tr style=\"text-align: right;\">\n",
       "      <th></th>\n",
       "      <th>Id</th>\n",
       "      <th>Target</th>\n",
       "    </tr>\n",
       "  </thead>\n",
       "  <tbody>\n",
       "    <tr>\n",
       "      <th>0</th>\n",
       "      <td>00070df0-bbc3-11e8-b2bc-ac1f6b6435d0</td>\n",
       "      <td>16 0</td>\n",
       "    </tr>\n",
       "    <tr>\n",
       "      <th>1</th>\n",
       "      <td>000a6c98-bb9b-11e8-b2b9-ac1f6b6435d0</td>\n",
       "      <td>7 1 2 0</td>\n",
       "    </tr>\n",
       "    <tr>\n",
       "      <th>2</th>\n",
       "      <td>000a9596-bbc4-11e8-b2bc-ac1f6b6435d0</td>\n",
       "      <td>5</td>\n",
       "    </tr>\n",
       "    <tr>\n",
       "      <th>3</th>\n",
       "      <td>000c99ba-bba4-11e8-b2b9-ac1f6b6435d0</td>\n",
       "      <td>1</td>\n",
       "    </tr>\n",
       "    <tr>\n",
       "      <th>4</th>\n",
       "      <td>001838f8-bbca-11e8-b2bc-ac1f6b6435d0</td>\n",
       "      <td>18</td>\n",
       "    </tr>\n",
       "  </tbody>\n",
       "</table>\n",
       "</div>"
      ],
      "text/plain": [
       "                                     Id   Target\n",
       "0  00070df0-bbc3-11e8-b2bc-ac1f6b6435d0     16 0\n",
       "1  000a6c98-bb9b-11e8-b2b9-ac1f6b6435d0  7 1 2 0\n",
       "2  000a9596-bbc4-11e8-b2bc-ac1f6b6435d0        5\n",
       "3  000c99ba-bba4-11e8-b2b9-ac1f6b6435d0        1\n",
       "4  001838f8-bbca-11e8-b2bc-ac1f6b6435d0       18"
      ]
     },
     "execution_count": 27,
     "metadata": {},
     "output_type": "execute_result"
    }
   ],
   "source": [
    "%%time\n",
    "df_train.head()"
   ]
  },
  {
   "cell_type": "markdown",
   "id": "2950f842",
   "metadata": {},
   "source": [
    "# EDA"
   ]
  },
  {
   "cell_type": "code",
   "execution_count": 28,
   "id": "0600bd2c",
   "metadata": {},
   "outputs": [],
   "source": [
    "reverse_train_labels = dict((v,k) for k,v in name_label_dict.items())"
   ]
  },
  {
   "cell_type": "code",
   "execution_count": 29,
   "id": "a5336ead",
   "metadata": {
    "scrolled": true
   },
   "outputs": [
    {
     "data": {
      "text/plain": [
       "{'Nucleoplasm': 0,\n",
       " 'Nuclear membrane': 1,\n",
       " 'Nucleoli': 2,\n",
       " 'Nucleoli fibrillar center': 3,\n",
       " 'Nuclear speckles': 4,\n",
       " 'Nuclear bodies': 5,\n",
       " 'Endoplasmic reticulum': 6,\n",
       " 'Golgi apparatus': 7,\n",
       " 'Peroxisomes': 8,\n",
       " 'Endosomes': 9,\n",
       " 'Lysosomes': 10,\n",
       " 'Intermediate filaments': 11,\n",
       " 'Actin filaments': 12,\n",
       " 'Focal adhesion sites': 13,\n",
       " 'Microtubules': 14,\n",
       " 'Microtubule ends': 15,\n",
       " 'Cytokinetic bridge': 16,\n",
       " 'Mitotic spindle': 17,\n",
       " 'Microtubule organizing center': 18,\n",
       " 'Centrosome': 19,\n",
       " 'Lipid droplets': 20,\n",
       " 'Plasma membrane': 21,\n",
       " 'Cell junctions': 22,\n",
       " 'Mitochondria': 23,\n",
       " 'Aggresome': 24,\n",
       " 'Cytosol': 25,\n",
       " 'Cytoplasmic bodies': 26,\n",
       " 'Rods & rings': 27}"
      ]
     },
     "execution_count": 29,
     "metadata": {},
     "output_type": "execute_result"
    }
   ],
   "source": [
    "reverse_train_labels"
   ]
  },
  {
   "cell_type": "code",
   "execution_count": 30,
   "id": "4e4048ba",
   "metadata": {},
   "outputs": [],
   "source": [
    "for key in name_label_dict.keys():\n",
    "    df_train[name_label_dict[key]] = 0"
   ]
  },
  {
   "cell_type": "code",
   "execution_count": 31,
   "id": "ad632a56",
   "metadata": {
    "scrolled": true
   },
   "outputs": [
    {
     "data": {
      "text/html": [
       "<div>\n",
       "<style scoped>\n",
       "    .dataframe tbody tr th:only-of-type {\n",
       "        vertical-align: middle;\n",
       "    }\n",
       "\n",
       "    .dataframe tbody tr th {\n",
       "        vertical-align: top;\n",
       "    }\n",
       "\n",
       "    .dataframe thead th {\n",
       "        text-align: right;\n",
       "    }\n",
       "</style>\n",
       "<table border=\"1\" class=\"dataframe\">\n",
       "  <thead>\n",
       "    <tr style=\"text-align: right;\">\n",
       "      <th></th>\n",
       "      <th>Id</th>\n",
       "      <th>Target</th>\n",
       "      <th>Nucleoplasm</th>\n",
       "      <th>Nuclear membrane</th>\n",
       "      <th>Nucleoli</th>\n",
       "      <th>Nucleoli fibrillar center</th>\n",
       "      <th>Nuclear speckles</th>\n",
       "      <th>Nuclear bodies</th>\n",
       "      <th>Endoplasmic reticulum</th>\n",
       "      <th>Golgi apparatus</th>\n",
       "      <th>...</th>\n",
       "      <th>Microtubule organizing center</th>\n",
       "      <th>Centrosome</th>\n",
       "      <th>Lipid droplets</th>\n",
       "      <th>Plasma membrane</th>\n",
       "      <th>Cell junctions</th>\n",
       "      <th>Mitochondria</th>\n",
       "      <th>Aggresome</th>\n",
       "      <th>Cytosol</th>\n",
       "      <th>Cytoplasmic bodies</th>\n",
       "      <th>Rods &amp; rings</th>\n",
       "    </tr>\n",
       "  </thead>\n",
       "  <tbody>\n",
       "    <tr>\n",
       "      <th>0</th>\n",
       "      <td>00070df0-bbc3-11e8-b2bc-ac1f6b6435d0</td>\n",
       "      <td>[16, 0]</td>\n",
       "      <td>1</td>\n",
       "      <td>0</td>\n",
       "      <td>0</td>\n",
       "      <td>0</td>\n",
       "      <td>0</td>\n",
       "      <td>0</td>\n",
       "      <td>0</td>\n",
       "      <td>0</td>\n",
       "      <td>...</td>\n",
       "      <td>0</td>\n",
       "      <td>0</td>\n",
       "      <td>0</td>\n",
       "      <td>0</td>\n",
       "      <td>0</td>\n",
       "      <td>0</td>\n",
       "      <td>0</td>\n",
       "      <td>0</td>\n",
       "      <td>0</td>\n",
       "      <td>0</td>\n",
       "    </tr>\n",
       "    <tr>\n",
       "      <th>1</th>\n",
       "      <td>000a6c98-bb9b-11e8-b2b9-ac1f6b6435d0</td>\n",
       "      <td>[7, 1, 2, 0]</td>\n",
       "      <td>1</td>\n",
       "      <td>1</td>\n",
       "      <td>1</td>\n",
       "      <td>0</td>\n",
       "      <td>0</td>\n",
       "      <td>0</td>\n",
       "      <td>0</td>\n",
       "      <td>1</td>\n",
       "      <td>...</td>\n",
       "      <td>0</td>\n",
       "      <td>0</td>\n",
       "      <td>0</td>\n",
       "      <td>0</td>\n",
       "      <td>0</td>\n",
       "      <td>0</td>\n",
       "      <td>0</td>\n",
       "      <td>0</td>\n",
       "      <td>0</td>\n",
       "      <td>0</td>\n",
       "    </tr>\n",
       "    <tr>\n",
       "      <th>2</th>\n",
       "      <td>000a9596-bbc4-11e8-b2bc-ac1f6b6435d0</td>\n",
       "      <td>[5]</td>\n",
       "      <td>0</td>\n",
       "      <td>0</td>\n",
       "      <td>0</td>\n",
       "      <td>0</td>\n",
       "      <td>0</td>\n",
       "      <td>1</td>\n",
       "      <td>0</td>\n",
       "      <td>0</td>\n",
       "      <td>...</td>\n",
       "      <td>0</td>\n",
       "      <td>0</td>\n",
       "      <td>0</td>\n",
       "      <td>0</td>\n",
       "      <td>0</td>\n",
       "      <td>0</td>\n",
       "      <td>0</td>\n",
       "      <td>0</td>\n",
       "      <td>0</td>\n",
       "      <td>0</td>\n",
       "    </tr>\n",
       "    <tr>\n",
       "      <th>3</th>\n",
       "      <td>000c99ba-bba4-11e8-b2b9-ac1f6b6435d0</td>\n",
       "      <td>[1]</td>\n",
       "      <td>0</td>\n",
       "      <td>1</td>\n",
       "      <td>0</td>\n",
       "      <td>0</td>\n",
       "      <td>0</td>\n",
       "      <td>0</td>\n",
       "      <td>0</td>\n",
       "      <td>0</td>\n",
       "      <td>...</td>\n",
       "      <td>0</td>\n",
       "      <td>0</td>\n",
       "      <td>0</td>\n",
       "      <td>0</td>\n",
       "      <td>0</td>\n",
       "      <td>0</td>\n",
       "      <td>0</td>\n",
       "      <td>0</td>\n",
       "      <td>0</td>\n",
       "      <td>0</td>\n",
       "    </tr>\n",
       "    <tr>\n",
       "      <th>4</th>\n",
       "      <td>001838f8-bbca-11e8-b2bc-ac1f6b6435d0</td>\n",
       "      <td>[18]</td>\n",
       "      <td>0</td>\n",
       "      <td>0</td>\n",
       "      <td>0</td>\n",
       "      <td>0</td>\n",
       "      <td>0</td>\n",
       "      <td>0</td>\n",
       "      <td>0</td>\n",
       "      <td>0</td>\n",
       "      <td>...</td>\n",
       "      <td>1</td>\n",
       "      <td>0</td>\n",
       "      <td>0</td>\n",
       "      <td>0</td>\n",
       "      <td>0</td>\n",
       "      <td>0</td>\n",
       "      <td>0</td>\n",
       "      <td>0</td>\n",
       "      <td>0</td>\n",
       "      <td>0</td>\n",
       "    </tr>\n",
       "  </tbody>\n",
       "</table>\n",
       "<p>5 rows × 30 columns</p>\n",
       "</div>"
      ],
      "text/plain": [
       "                                     Id        Target  Nucleoplasm  \\\n",
       "0  00070df0-bbc3-11e8-b2bc-ac1f6b6435d0       [16, 0]            1   \n",
       "1  000a6c98-bb9b-11e8-b2b9-ac1f6b6435d0  [7, 1, 2, 0]            1   \n",
       "2  000a9596-bbc4-11e8-b2bc-ac1f6b6435d0           [5]            0   \n",
       "3  000c99ba-bba4-11e8-b2b9-ac1f6b6435d0           [1]            0   \n",
       "4  001838f8-bbca-11e8-b2bc-ac1f6b6435d0          [18]            0   \n",
       "\n",
       "   Nuclear membrane  Nucleoli  Nucleoli fibrillar center  Nuclear speckles  \\\n",
       "0                 0         0                          0                 0   \n",
       "1                 1         1                          0                 0   \n",
       "2                 0         0                          0                 0   \n",
       "3                 1         0                          0                 0   \n",
       "4                 0         0                          0                 0   \n",
       "\n",
       "   Nuclear bodies  Endoplasmic reticulum  Golgi apparatus  ...  \\\n",
       "0               0                      0                0  ...   \n",
       "1               0                      0                1  ...   \n",
       "2               1                      0                0  ...   \n",
       "3               0                      0                0  ...   \n",
       "4               0                      0                0  ...   \n",
       "\n",
       "   Microtubule organizing center  Centrosome  Lipid droplets  Plasma membrane  \\\n",
       "0                              0           0               0                0   \n",
       "1                              0           0               0                0   \n",
       "2                              0           0               0                0   \n",
       "3                              0           0               0                0   \n",
       "4                              1           0               0                0   \n",
       "\n",
       "   Cell junctions  Mitochondria  Aggresome  Cytosol  Cytoplasmic bodies  \\\n",
       "0               0             0          0        0                   0   \n",
       "1               0             0          0        0                   0   \n",
       "2               0             0          0        0                   0   \n",
       "3               0             0          0        0                   0   \n",
       "4               0             0          0        0                   0   \n",
       "\n",
       "   Rods & rings  \n",
       "0             0  \n",
       "1             0  \n",
       "2             0  \n",
       "3             0  \n",
       "4             0  \n",
       "\n",
       "[5 rows x 30 columns]"
      ]
     },
     "execution_count": 31,
     "metadata": {},
     "output_type": "execute_result"
    }
   ],
   "source": [
    "def fill_targets(row):\n",
    "    row.Target = np.array(row.Target.split(\" \")).astype(np.int)  # label -> list(int)로 변경 index matching\n",
    "    for num in row.Target:\n",
    "        name = name_label_dict[int(num)]\n",
    "        row.loc[name] = 1\n",
    "    return row\n",
    "\n",
    "df_train = df_train.apply(fill_targets, axis=1)   #label_dict와 Target match\n",
    "df_train.head()"
   ]
  },
  {
   "cell_type": "code",
   "execution_count": 32,
   "id": "5d8640be",
   "metadata": {
    "scrolled": true
   },
   "outputs": [
    {
     "data": {
      "text/plain": [
       "<AxesSubplot:>"
      ]
     },
     "execution_count": 32,
     "metadata": {},
     "output_type": "execute_result"
    },
    {
     "data": {
      "image/png": "[encoded data removed]",
      "text/plain": [
       "<Figure size 1080x1080 with 1 Axes>"
      ]
     },
     "metadata": {
      "needs_background": "light"
     },
     "output_type": "display_data"
    }
   ],
   "source": [
    "# Data 시각화  -> dataset bias가 높음\n",
    "\n",
    "target_counts = df_train.drop([\"Id\", \"Target\"],axis=1).sum(axis=0)\n",
    "plt.figure(figsize=(15,15))\n",
    "sns.barplot(y=target_counts.index.values, x=target_counts.values, order=target_counts.index)"
   ]
  },
  {
   "cell_type": "code",
   "execution_count": 33,
   "id": "01e41373",
   "metadata": {
    "scrolled": false
   },
   "outputs": [
    {
     "data": {
      "text/plain": [
       "Text(0, 0.5, '% of train data')"
      ]
     },
     "execution_count": 33,
     "metadata": {},
     "output_type": "execute_result"
    },
    {
     "data": {
      "image/png": "[encoded data removed]",
      "text/plain": [
       "<Figure size 1440x360 with 1 Axes>"
      ]
     },
     "metadata": {
      "needs_background": "light"
     },
     "output_type": "display_data"
    }
   ],
   "source": [
    "# 멀티 레이블을 가지는 사진의 비율 시각화, 1장의 image가 가지는 최대 레이블은 5개,   1~3개의 label을 가지는 비율이 90%에 가까움\n",
    "\n",
    "df_train[\"number_of_targets\"] = df_train.drop([\"Id\", \"Target\"],axis=1).sum(axis=1)\n",
    "count_perc = np.round(100 * df_train[\"number_of_targets\"].value_counts() / df_train.shape[0], 2)\n",
    "plt.figure(figsize=(20,5))\n",
    "sns.barplot(x=count_perc.index.values, y=count_perc.values, palette=\"Blues\")\n",
    "plt.xlabel(\"Number of targets per image\")\n",
    "plt.ylabel(\"% of train data\")"
   ]
  },
  {
   "cell_type": "code",
   "execution_count": 34,
   "id": "68d50943",
   "metadata": {
    "scrolled": true
   },
   "outputs": [
    {
     "data": {
      "text/plain": [
       "<AxesSubplot:>"
      ]
     },
     "execution_count": 34,
     "metadata": {},
     "output_type": "execute_result"
    },
    {
     "data": {
      "image/png": "[encoded data removed]",
      "text/plain": [
       "<Figure size 720x720 with 2 Axes>"
      ]
     },
     "metadata": {
      "needs_background": "light"
     },
     "output_type": "display_data"
    }
   ],
   "source": [
    "# 레이블 간의 상관관계 분석. 상관성이 있는 label들 확인\n",
    "\n",
    "plt.figure(figsize=(10,10))\n",
    "sns.heatmap(df_train[df_train.number_of_targets>1].drop(\n",
    "    [\"Id\", \"Target\", \"number_of_targets\"],axis=1\n",
    ").corr(), cmap=\"RdYlBu\", vmin=-1, vmax=1)"
   ]
  },
  {
   "cell_type": "markdown",
   "id": "c4ed2869",
   "metadata": {},
   "source": [
    "# DataSet Split"
   ]
  },
  {
   "cell_type": "code",
   "execution_count": 35,
   "id": "6c144ad4",
   "metadata": {},
   "outputs": [
    {
     "name": "stdout",
     "output_type": "stream",
     "text": [
      "train_data_set 대비 test_data_set이 38.0 % 비율\n"
     ]
    }
   ],
   "source": [
    "train_files = os.listdir(f\"{data_dir}/train\")\n",
    "test_files = os.listdir(f\"{data_dir}/test\")\n",
    "percentage = np.round(len(test_files) / len(train_files) * 100)\n",
    "\n",
    "print(f\"train_data_set 대비 test_data_set이 {percentage} % 비율\")"
   ]
  },
  {
   "cell_type": "code",
   "execution_count": 36,
   "id": "d2cc2166",
   "metadata": {},
   "outputs": [],
   "source": [
    "# train  test 비율이 38%지만 학습효율을 위해 3:1로 split\n",
    "splitter = RepeatedKFold(n_splits=4, n_repeats=1, random_state=950221)"
   ]
  },
  {
   "cell_type": "code",
   "execution_count": 37,
   "id": "555a32db",
   "metadata": {},
   "outputs": [
    {
     "name": "stdout",
     "output_type": "stream",
     "text": [
      "TRAIN: [    0     1     2 ... 31069 31070 31071] validation: [    6    12    18 ... 31064 31066 31068]\n",
      "TRAIN: 23304 validation: 7768\n",
      "\n",
      "TRAIN: [    0     1     2 ... 31068 31069 31071] validation: [    3    11    21 ... 31060 31065 31070]\n",
      "TRAIN: 23304 validation: 7768\n",
      "\n",
      "TRAIN: [    0     1     3 ... 31069 31070 31071] validation: [    2     8     9 ... 31056 31063 31067]\n",
      "TRAIN: 23304 validation: 7768\n",
      "\n",
      "TRAIN: [    2     3     6 ... 31067 31068 31070] validation: [    0     1     4 ... 31062 31069 31071]\n",
      "TRAIN: 23304 validation: 7768\n",
      "\n"
     ]
    }
   ],
   "source": [
    "partitions = []\n",
    "\n",
    "for train_idx, test_idx in splitter.split(df_train.index.values):\n",
    "    partition = {}\n",
    "    partition[\"train\"] = df_train.Id.values[train_idx]\n",
    "    partition[\"validation\"] = df_train.Id.values[test_idx]\n",
    "    partitions.append(partition)\n",
    "    print(\"TRAIN:\", train_idx,\"\" \"validation:\", test_idx)\n",
    "    print(\"TRAIN:\", len(train_idx), \"validation:\", len(test_idx))\n",
    "    print('')"
   ]
  },
  {
   "cell_type": "code",
   "execution_count": 38,
   "id": "20cfabab",
   "metadata": {},
   "outputs": [],
   "source": [
    "for idx, part in enumerate(partitions):\n",
    "    globals()[f'df_train_f{idx}'] = df_train[df_train.Id.isin(part['train'], )]\n",
    "    globals()[f'df_valid_f{idx}'] = df_train[df_train.Id.isin(part['validation'], )]"
   ]
  },
  {
   "cell_type": "code",
   "execution_count": 39,
   "id": "38d6faf1",
   "metadata": {
    "scrolled": true
   },
   "outputs": [
    {
     "data": {
      "text/html": [
       "<div>\n",
       "<style scoped>\n",
       "    .dataframe tbody tr th:only-of-type {\n",
       "        vertical-align: middle;\n",
       "    }\n",
       "\n",
       "    .dataframe tbody tr th {\n",
       "        vertical-align: top;\n",
       "    }\n",
       "\n",
       "    .dataframe thead th {\n",
       "        text-align: right;\n",
       "    }\n",
       "</style>\n",
       "<table border=\"1\" class=\"dataframe\">\n",
       "  <thead>\n",
       "    <tr style=\"text-align: right;\">\n",
       "      <th></th>\n",
       "      <th>Id</th>\n",
       "      <th>Target</th>\n",
       "      <th>Nucleoplasm</th>\n",
       "      <th>Nuclear membrane</th>\n",
       "      <th>Nucleoli</th>\n",
       "      <th>Nucleoli fibrillar center</th>\n",
       "      <th>Nuclear speckles</th>\n",
       "      <th>Nuclear bodies</th>\n",
       "      <th>Endoplasmic reticulum</th>\n",
       "      <th>Golgi apparatus</th>\n",
       "      <th>...</th>\n",
       "      <th>Centrosome</th>\n",
       "      <th>Lipid droplets</th>\n",
       "      <th>Plasma membrane</th>\n",
       "      <th>Cell junctions</th>\n",
       "      <th>Mitochondria</th>\n",
       "      <th>Aggresome</th>\n",
       "      <th>Cytosol</th>\n",
       "      <th>Cytoplasmic bodies</th>\n",
       "      <th>Rods &amp; rings</th>\n",
       "      <th>number_of_targets</th>\n",
       "    </tr>\n",
       "  </thead>\n",
       "  <tbody>\n",
       "    <tr>\n",
       "      <th>3</th>\n",
       "      <td>000c99ba-bba4-11e8-b2b9-ac1f6b6435d0</td>\n",
       "      <td>[1]</td>\n",
       "      <td>0</td>\n",
       "      <td>1</td>\n",
       "      <td>0</td>\n",
       "      <td>0</td>\n",
       "      <td>0</td>\n",
       "      <td>0</td>\n",
       "      <td>0</td>\n",
       "      <td>0</td>\n",
       "      <td>...</td>\n",
       "      <td>0</td>\n",
       "      <td>0</td>\n",
       "      <td>0</td>\n",
       "      <td>0</td>\n",
       "      <td>0</td>\n",
       "      <td>0</td>\n",
       "      <td>0</td>\n",
       "      <td>0</td>\n",
       "      <td>0</td>\n",
       "      <td>1</td>\n",
       "    </tr>\n",
       "    <tr>\n",
       "      <th>11</th>\n",
       "      <td>00301238-bbb2-11e8-b2ba-ac1f6b6435d0</td>\n",
       "      <td>[21]</td>\n",
       "      <td>0</td>\n",
       "      <td>0</td>\n",
       "      <td>0</td>\n",
       "      <td>0</td>\n",
       "      <td>0</td>\n",
       "      <td>0</td>\n",
       "      <td>0</td>\n",
       "      <td>0</td>\n",
       "      <td>...</td>\n",
       "      <td>0</td>\n",
       "      <td>0</td>\n",
       "      <td>1</td>\n",
       "      <td>0</td>\n",
       "      <td>0</td>\n",
       "      <td>0</td>\n",
       "      <td>0</td>\n",
       "      <td>0</td>\n",
       "      <td>0</td>\n",
       "      <td>1</td>\n",
       "    </tr>\n",
       "    <tr>\n",
       "      <th>21</th>\n",
       "      <td>0047c984-bba6-11e8-b2ba-ac1f6b6435d0</td>\n",
       "      <td>[11]</td>\n",
       "      <td>0</td>\n",
       "      <td>0</td>\n",
       "      <td>0</td>\n",
       "      <td>0</td>\n",
       "      <td>0</td>\n",
       "      <td>0</td>\n",
       "      <td>0</td>\n",
       "      <td>0</td>\n",
       "      <td>...</td>\n",
       "      <td>0</td>\n",
       "      <td>0</td>\n",
       "      <td>0</td>\n",
       "      <td>0</td>\n",
       "      <td>0</td>\n",
       "      <td>0</td>\n",
       "      <td>0</td>\n",
       "      <td>0</td>\n",
       "      <td>0</td>\n",
       "      <td>1</td>\n",
       "    </tr>\n",
       "    <tr>\n",
       "      <th>22</th>\n",
       "      <td>00481c70-bba3-11e8-b2b9-ac1f6b6435d0</td>\n",
       "      <td>[25, 2]</td>\n",
       "      <td>0</td>\n",
       "      <td>0</td>\n",
       "      <td>1</td>\n",
       "      <td>0</td>\n",
       "      <td>0</td>\n",
       "      <td>0</td>\n",
       "      <td>0</td>\n",
       "      <td>0</td>\n",
       "      <td>...</td>\n",
       "      <td>0</td>\n",
       "      <td>0</td>\n",
       "      <td>0</td>\n",
       "      <td>0</td>\n",
       "      <td>0</td>\n",
       "      <td>0</td>\n",
       "      <td>1</td>\n",
       "      <td>0</td>\n",
       "      <td>0</td>\n",
       "      <td>2</td>\n",
       "    </tr>\n",
       "    <tr>\n",
       "      <th>23</th>\n",
       "      <td>004a2b84-bbc4-11e8-b2bc-ac1f6b6435d0</td>\n",
       "      <td>[25, 0]</td>\n",
       "      <td>1</td>\n",
       "      <td>0</td>\n",
       "      <td>0</td>\n",
       "      <td>0</td>\n",
       "      <td>0</td>\n",
       "      <td>0</td>\n",
       "      <td>0</td>\n",
       "      <td>0</td>\n",
       "      <td>...</td>\n",
       "      <td>0</td>\n",
       "      <td>0</td>\n",
       "      <td>0</td>\n",
       "      <td>0</td>\n",
       "      <td>0</td>\n",
       "      <td>0</td>\n",
       "      <td>1</td>\n",
       "      <td>0</td>\n",
       "      <td>0</td>\n",
       "      <td>2</td>\n",
       "    </tr>\n",
       "    <tr>\n",
       "      <th>...</th>\n",
       "      <td>...</td>\n",
       "      <td>...</td>\n",
       "      <td>...</td>\n",
       "      <td>...</td>\n",
       "      <td>...</td>\n",
       "      <td>...</td>\n",
       "      <td>...</td>\n",
       "      <td>...</td>\n",
       "      <td>...</td>\n",
       "      <td>...</td>\n",
       "      <td>...</td>\n",
       "      <td>...</td>\n",
       "      <td>...</td>\n",
       "      <td>...</td>\n",
       "      <td>...</td>\n",
       "      <td>...</td>\n",
       "      <td>...</td>\n",
       "      <td>...</td>\n",
       "      <td>...</td>\n",
       "      <td>...</td>\n",
       "      <td>...</td>\n",
       "    </tr>\n",
       "    <tr>\n",
       "      <th>31048</th>\n",
       "      <td>ffbebc4e-bb9a-11e8-b2b9-ac1f6b6435d0</td>\n",
       "      <td>[4]</td>\n",
       "      <td>0</td>\n",
       "      <td>0</td>\n",
       "      <td>0</td>\n",
       "      <td>0</td>\n",
       "      <td>1</td>\n",
       "      <td>0</td>\n",
       "      <td>0</td>\n",
       "      <td>0</td>\n",
       "      <td>...</td>\n",
       "      <td>0</td>\n",
       "      <td>0</td>\n",
       "      <td>0</td>\n",
       "      <td>0</td>\n",
       "      <td>0</td>\n",
       "      <td>0</td>\n",
       "      <td>0</td>\n",
       "      <td>0</td>\n",
       "      <td>0</td>\n",
       "      <td>1</td>\n",
       "    </tr>\n",
       "    <tr>\n",
       "      <th>31053</th>\n",
       "      <td>ffcf84d6-bbac-11e8-b2ba-ac1f6b6435d0</td>\n",
       "      <td>[0]</td>\n",
       "      <td>1</td>\n",
       "      <td>0</td>\n",
       "      <td>0</td>\n",
       "      <td>0</td>\n",
       "      <td>0</td>\n",
       "      <td>0</td>\n",
       "      <td>0</td>\n",
       "      <td>0</td>\n",
       "      <td>...</td>\n",
       "      <td>0</td>\n",
       "      <td>0</td>\n",
       "      <td>0</td>\n",
       "      <td>0</td>\n",
       "      <td>0</td>\n",
       "      <td>0</td>\n",
       "      <td>0</td>\n",
       "      <td>0</td>\n",
       "      <td>0</td>\n",
       "      <td>1</td>\n",
       "    </tr>\n",
       "    <tr>\n",
       "      <th>31060</th>\n",
       "      <td>ffdbe064-bbbb-11e8-b2ba-ac1f6b6435d0</td>\n",
       "      <td>[23]</td>\n",
       "      <td>0</td>\n",
       "      <td>0</td>\n",
       "      <td>0</td>\n",
       "      <td>0</td>\n",
       "      <td>0</td>\n",
       "      <td>0</td>\n",
       "      <td>0</td>\n",
       "      <td>0</td>\n",
       "      <td>...</td>\n",
       "      <td>0</td>\n",
       "      <td>0</td>\n",
       "      <td>0</td>\n",
       "      <td>0</td>\n",
       "      <td>1</td>\n",
       "      <td>0</td>\n",
       "      <td>0</td>\n",
       "      <td>0</td>\n",
       "      <td>0</td>\n",
       "      <td>1</td>\n",
       "    </tr>\n",
       "    <tr>\n",
       "      <th>31065</th>\n",
       "      <td>ffe8cf0c-bba9-11e8-b2ba-ac1f6b6435d0</td>\n",
       "      <td>[18]</td>\n",
       "      <td>0</td>\n",
       "      <td>0</td>\n",
       "      <td>0</td>\n",
       "      <td>0</td>\n",
       "      <td>0</td>\n",
       "      <td>0</td>\n",
       "      <td>0</td>\n",
       "      <td>0</td>\n",
       "      <td>...</td>\n",
       "      <td>0</td>\n",
       "      <td>0</td>\n",
       "      <td>0</td>\n",
       "      <td>0</td>\n",
       "      <td>0</td>\n",
       "      <td>0</td>\n",
       "      <td>0</td>\n",
       "      <td>0</td>\n",
       "      <td>0</td>\n",
       "      <td>1</td>\n",
       "    </tr>\n",
       "    <tr>\n",
       "      <th>31070</th>\n",
       "      <td>fffdf7e0-bbc4-11e8-b2bc-ac1f6b6435d0</td>\n",
       "      <td>[25, 2, 21]</td>\n",
       "      <td>0</td>\n",
       "      <td>0</td>\n",
       "      <td>1</td>\n",
       "      <td>0</td>\n",
       "      <td>0</td>\n",
       "      <td>0</td>\n",
       "      <td>0</td>\n",
       "      <td>0</td>\n",
       "      <td>...</td>\n",
       "      <td>0</td>\n",
       "      <td>0</td>\n",
       "      <td>1</td>\n",
       "      <td>0</td>\n",
       "      <td>0</td>\n",
       "      <td>0</td>\n",
       "      <td>1</td>\n",
       "      <td>0</td>\n",
       "      <td>0</td>\n",
       "      <td>3</td>\n",
       "    </tr>\n",
       "  </tbody>\n",
       "</table>\n",
       "<p>7768 rows × 31 columns</p>\n",
       "</div>"
      ],
      "text/plain": [
       "                                         Id       Target  Nucleoplasm  \\\n",
       "3      000c99ba-bba4-11e8-b2b9-ac1f6b6435d0          [1]            0   \n",
       "11     00301238-bbb2-11e8-b2ba-ac1f6b6435d0         [21]            0   \n",
       "21     0047c984-bba6-11e8-b2ba-ac1f6b6435d0         [11]            0   \n",
       "22     00481c70-bba3-11e8-b2b9-ac1f6b6435d0      [25, 2]            0   \n",
       "23     004a2b84-bbc4-11e8-b2bc-ac1f6b6435d0      [25, 0]            1   \n",
       "...                                     ...          ...          ...   \n",
       "31048  ffbebc4e-bb9a-11e8-b2b9-ac1f6b6435d0          [4]            0   \n",
       "31053  ffcf84d6-bbac-11e8-b2ba-ac1f6b6435d0          [0]            1   \n",
       "31060  ffdbe064-bbbb-11e8-b2ba-ac1f6b6435d0         [23]            0   \n",
       "31065  ffe8cf0c-bba9-11e8-b2ba-ac1f6b6435d0         [18]            0   \n",
       "31070  fffdf7e0-bbc4-11e8-b2bc-ac1f6b6435d0  [25, 2, 21]            0   \n",
       "\n",
       "       Nuclear membrane  Nucleoli  Nucleoli fibrillar center  \\\n",
       "3                     1         0                          0   \n",
       "11                    0         0                          0   \n",
       "21                    0         0                          0   \n",
       "22                    0         1                          0   \n",
       "23                    0         0                          0   \n",
       "...                 ...       ...                        ...   \n",
       "31048                 0         0                          0   \n",
       "31053                 0         0                          0   \n",
       "31060                 0         0                          0   \n",
       "31065                 0         0                          0   \n",
       "31070                 0         1                          0   \n",
       "\n",
       "       Nuclear speckles  Nuclear bodies  Endoplasmic reticulum  \\\n",
       "3                     0               0                      0   \n",
       "11                    0               0                      0   \n",
       "21                    0               0                      0   \n",
       "22                    0               0                      0   \n",
       "23                    0               0                      0   \n",
       "...                 ...             ...                    ...   \n",
       "31048                 1               0                      0   \n",
       "31053                 0               0                      0   \n",
       "31060                 0               0                      0   \n",
       "31065                 0               0                      0   \n",
       "31070                 0               0                      0   \n",
       "\n",
       "       Golgi apparatus  ...  Centrosome  Lipid droplets  Plasma membrane  \\\n",
       "3                    0  ...           0               0                0   \n",
       "11                   0  ...           0               0                1   \n",
       "21                   0  ...           0               0                0   \n",
       "22                   0  ...           0               0                0   \n",
       "23                   0  ...           0               0                0   \n",
       "...                ...  ...         ...             ...              ...   \n",
       "31048                0  ...           0               0                0   \n",
       "31053                0  ...           0               0                0   \n",
       "31060                0  ...           0               0                0   \n",
       "31065                0  ...           0               0                0   \n",
       "31070                0  ...           0               0                1   \n",
       "\n",
       "       Cell junctions  Mitochondria  Aggresome  Cytosol  Cytoplasmic bodies  \\\n",
       "3                   0             0          0        0                   0   \n",
       "11                  0             0          0        0                   0   \n",
       "21                  0             0          0        0                   0   \n",
       "22                  0             0          0        1                   0   \n",
       "23                  0             0          0        1                   0   \n",
       "...               ...           ...        ...      ...                 ...   \n",
       "31048               0             0          0        0                   0   \n",
       "31053               0             0          0        0                   0   \n",
       "31060               0             1          0        0                   0   \n",
       "31065               0             0          0        0                   0   \n",
       "31070               0             0          0        1                   0   \n",
       "\n",
       "       Rods & rings  number_of_targets  \n",
       "3                 0                  1  \n",
       "11                0                  1  \n",
       "21                0                  1  \n",
       "22                0                  2  \n",
       "23                0                  2  \n",
       "...             ...                ...  \n",
       "31048             0                  1  \n",
       "31053             0                  1  \n",
       "31060             0                  1  \n",
       "31065             0                  1  \n",
       "31070             0                  3  \n",
       "\n",
       "[7768 rows x 31 columns]"
      ]
     },
     "execution_count": 39,
     "metadata": {},
     "output_type": "execute_result"
    }
   ],
   "source": [
    "df_valid_f1"
   ]
  },
  {
   "cell_type": "markdown",
   "id": "07b28be2",
   "metadata": {},
   "source": [
    "# Define dataset"
   ]
  },
  {
   "cell_type": "code",
   "execution_count": null,
   "id": "ea0a70ce",
   "metadata": {},
   "outputs": [],
   "source": [
    "train_dataset_info = []\n",
    "for name, labels in zip(df_train['Id'], df_train['Target']):\n",
    "    train_dataset_info.append({\n",
    "        'path':os.path.join(data_dir+ 'train', name),\n",
    "        'labels':np.array([int(label) for label in labels])})\n",
    "train_dataset_info = np.array(train_dataset_info)"
   ]
  },
  {
   "cell_type": "code",
   "execution_count": null,
   "id": "8dd2a5e9",
   "metadata": {},
   "outputs": [],
   "source": [
    "def create_train(dataset_info, batch_size, shape, augument=False):\n",
    "    while True:\n",
    "        dataset_info = shuffle(dataset_info)\n",
    "        for start in range(0, len(dataset_info), batch_size):\n",
    "            end = min(start + batch_size, len(dataset_info))\n",
    "            batch_images = []\n",
    "            X_train_batch = dataset_info[start:end]\n",
    "            batch_labels = np.zeros((len(X_train_batch), 28))\n",
    "            for i in range(len(X_train_batch)):\n",
    "                image = load_image(\n",
    "                    X_train_batch[i]['path'], shape)   \n",
    "                if augument:\n",
    "                    image = A.augment(image)\n",
    "                batch_images.append(image/255.)\n",
    "                batch_labels[i][X_train_batch[i]['labels']] = 1\n",
    "            yield np.array(batch_images, np.float32), batch_labels\n",
    "            \n",
    "            \n",
    "def load_image(path, shape):\n",
    "    image_red_ch = Image.open(path+'_red.png')\n",
    "    image_yellow_ch = Image.open(path+'_yellow.png')\n",
    "    image_green_ch = Image.open(path+'_green.png')\n",
    "    image_blue_ch = Image.open(path+'_blue.png')\n",
    "    image = np.stack([\n",
    "    np.array(image_red_ch), \n",
    "    np.array(image_green_ch), \n",
    "    np.array(image_blue_ch),\n",
    "    np.array(image_yellow_ch)][:shape[2]], -1)\n",
    "    image = cv2.resize(image, (shape[0], shape[1]))\n",
    "    return image"
   ]
  },
  {
   "cell_type": "code",
   "execution_count": null,
   "id": "9f1190d2",
   "metadata": {},
   "outputs": [],
   "source": [
    "train_images = create_train(dataset_info= train_dataset_info, batch_size= 32, shape= (512,512,4), augument= False)"
   ]
  },
  {
   "cell_type": "code",
   "execution_count": 177,
   "id": "a4befafc",
   "metadata": {},
   "outputs": [],
   "source": [
    "class HPA_Dataset(Dataset):\n",
    "  def __init__(self, csv, img_height, img_width, transform):\n",
    "    self.csv = csv.reset_index()\n",
    "    self.img_ids = csv['Id'].values\n",
    "    self.img_height = img_height\n",
    "    self.img_width = img_width\n",
    "    self.transform = transform\n",
    "\n",
    "\n",
    "  def __len__(self):\n",
    "    return len(self.csv)\n",
    "\n",
    "\n",
    "  def __getitem__(self, index):\n",
    "    img_id = self.img_ids[index]\n",
    "    img_red_ch = Image.open(f'{data_dir}/train/{img_id}'+'_red.png')\n",
    "    img_green_ch = Image.open(f'{data_dir}/train/{img_id}'+'_green.png')\n",
    "    img_blue_ch = Image.open(f'{data_dir}/train/{img_id}'+'_blue.png')\n",
    "    img_yellow_ch = Image.open(f'{data_dir}/train/{img_id}'+'_yellow.png')\n",
    "    \n",
    "    img = np.stack([\n",
    "    np.array(img_red_ch), \n",
    "    np.array(img_green_ch), \n",
    "    np.array(img_blue_ch),\n",
    "    np.array(img_yellow_ch)], -1)\n",
    "    \n",
    "    img = cv2.resize(img, (self.img_height,  self.img_width)).astype(np.uint8)/255\n",
    "#     img = torch.Tensor(img).permute(2,0,1).numpy()\n",
    "    \n",
    "    if self.transform is not None:\n",
    "      img = self.transform(image = img)['image']\n",
    "\n",
    "    label = self.csv.iloc[:,3:-1].iloc[index]\n",
    "    \n",
    "    return img, np.array(label)"
   ]
  },
  {
   "cell_type": "markdown",
   "id": "2dff13ad",
   "metadata": {},
   "source": [
    "# Define augmentations"
   ]
  },
  {
   "cell_type": "code",
   "execution_count": 90,
   "id": "3e092d1b",
   "metadata": {},
   "outputs": [],
   "source": [
    "train_aug = A.Compose([\n",
    "    A.Rotate(20),\n",
    "    A.pytorch.transforms.ToTensorV2()\n",
    "])\n",
    "\n",
    "vaild_aug = A.Compose([\n",
    "    A.pytorch.transforms.ToTensorV2()\n",
    "])"
   ]
  },
  {
   "cell_type": "markdown",
   "id": "3d7e0430",
   "metadata": {},
   "source": [
    "# Make dataloader"
   ]
  },
  {
   "cell_type": "code",
   "execution_count": 180,
   "id": "ad8dbe58",
   "metadata": {},
   "outputs": [],
   "source": [
    "trn_dataset = HPA_Dataset(csv = df_train_f0,\n",
    "                             img_height = HEIGHT,\n",
    "                             img_width = WIDTH,\n",
    "                             transform = train_aug,\n",
    "                          )\n",
    "\n",
    "vld_dataset = HPA_Dataset(csv = df_valid_f0,\n",
    "                            img_height = HEIGHT,\n",
    "                            img_width = WIDTH,\n",
    "                            transform = vaild_aug)\n"
   ]
  },
  {
   "cell_type": "code",
   "execution_count": 182,
   "id": "07ed3724",
   "metadata": {},
   "outputs": [
    {
     "data": {
      "text/plain": [
       "array([1, 0, 0, 0, 0, 0, 0, 0, 0, 0, 0, 0, 0, 0, 0, 0, 1, 0, 0, 0, 0, 0,\n",
       "       0, 0, 0, 0, 0, 0], dtype=int64)"
      ]
     },
     "execution_count": 182,
     "metadata": {},
     "output_type": "execute_result"
    }
   ],
   "source": [
    "i[1]"
   ]
  },
  {
   "cell_type": "code",
   "execution_count": 183,
   "id": "bb8b0ca7",
   "metadata": {},
   "outputs": [],
   "source": [
    "trn_loader = DataLoader(trn_dataset,\n",
    "                       shuffle = False,\n",
    "#                        num_workers = 2,\n",
    "                       batch_size = 32,\n",
    "                       )\n",
    "\n",
    "vld_loader = DataLoader(vld_dataset,\n",
    "                       batch_size = 32,\n",
    "                       )"
   ]
  },
  {
   "cell_type": "code",
   "execution_count": 184,
   "id": "b416ef45",
   "metadata": {},
   "outputs": [
    {
     "data": {
      "application/vnd.jupyter.widget-view+json": {
       "model_id": "9ef2955473a34e93aa2dcb4f45d6720c",
       "version_major": 2,
       "version_minor": 0
      },
      "text/plain": [
       "  0%|          | 0/729 [00:00<?, ?it/s]"
      ]
     },
     "metadata": {},
     "output_type": "display_data"
    },
    {
     "name": "stdout",
     "output_type": "stream",
     "text": [
      "CPU times: total: 453 ms\n",
      "Wall time: 372 ms\n"
     ]
    }
   ],
   "source": [
    "%%time\n",
    "for inputs, targets in tqdm(trn_loader):\n",
    "    break\n"
   ]
  },
  {
   "cell_type": "code",
   "execution_count": null,
   "id": "beb66a14",
   "metadata": {},
   "outputs": [],
   "source": []
  },
  {
   "cell_type": "code",
   "execution_count": null,
   "id": "ad3e1e8d",
   "metadata": {},
   "outputs": [],
   "source": []
  },
  {
   "cell_type": "code",
   "execution_count": null,
   "id": "4187308f",
   "metadata": {},
   "outputs": [],
   "source": [
    "#creating duplicates for rare classes in train set\n",
    "class Oversampling:\n",
    "    def __init__(self,path):\n",
    "        self.train_labels = pd.read_csv(path).set_index('Id')\n",
    "        self.train_labels['Target'] = [[int(i) for i in s.split()] \n",
    "                                       for s in self.train_labels['Target']]  \n",
    "        #set the minimum number of duplicates for each class\n",
    "        self.multi = [1,1,1,1,1,1,1,1,\n",
    "                      4,4,4,1,1,1,1,4,\n",
    "                      1,1,1,1,2,1,1,1,\n",
    "                      1,1,1,4]\n",
    "\n",
    "    def get(self,image_id):\n",
    "        labels = self.train_labels.loc[image_id,'Target'] if image_id \\\n",
    "          in self.train_labels.index else []\n",
    "        m = 1\n",
    "        for l in labels:\n",
    "            if m < self.multi[l]: m = self.multi[l]\n",
    "        return m\n",
    "    \n",
    "s = Oversampling(os.path.join(PATH,LABELS))\n",
    "tr_n = [idx for idx in tr_n for _ in range(s.get(idx))]\n",
    "print(len(tr_n),flush=True)"
   ]
  },
  {
   "cell_type": "code",
   "execution_count": null,
   "id": "a00bfc69",
   "metadata": {},
   "outputs": [],
   "source": [
    "def open_rgby(path,id): #a function that reads RGBY image\n",
    "    colors = ['red','green','blue','yellow']\n",
    "    flags = cv2.IMREAD_GRAYSCALE\n",
    "    img = [cv2.imread(os.path.join(path, id+'_'+color+'.png'), flags).astype(np.float32)/255\n",
    "           for color in colors]\n",
    "    return np.stack(img, axis=-1)"
   ]
  },
  {
   "cell_type": "code",
   "execution_count": null,
   "id": "011594a7",
   "metadata": {},
   "outputs": [],
   "source": [
    "class pdFilesDataset(FilesDataset):\n",
    "    def __init__(self, fnames, path, transform):\n",
    "        self.labels = pd.read_csv(LABELS).set_index('Id')\n",
    "        self.labels['Target'] = [[int(i) for i in s.split()] for s in self.labels['Target']]\n",
    "        super().__init__(fnames, transform, path)\n",
    "    \n",
    "    def get_x(self, i):\n",
    "        return open_rgby(self.path,self.fnames[i])\n",
    "    \n",
    "    def get_y(self, i):\n",
    "        if(self.path == TEST): return np.zeros(len(name_label_dict),dtype=np.int)\n",
    "        else:\n",
    "            labels = self.labels.loc[self.fnames[i]]['Target']\n",
    "            return np.eye(len(name_label_dict),dtype=np.float)[labels].sum(axis=0)\n",
    "        \n",
    "    @property\n",
    "    def is_multi(self): return True\n",
    "    @property\n",
    "    def is_reg(self):return True\n",
    "    #this flag is set to remove the output sigmoid that allows log(sigmoid) optimization\n",
    "    #of the numerical stability of the loss function\n",
    "    \n",
    "    def get_c(self): return len(name_label_dict) #number of classes"
   ]
  },
  {
   "cell_type": "code",
   "execution_count": null,
   "id": "8e759f1d",
   "metadata": {},
   "outputs": [],
   "source": [
    "def get_data(sz,bs,is_test=False):\n",
    "    #data augmentation\n",
    "    if is_test:\n",
    "        aug_tfms = [RandomRotate(30, tfm_y=TfmType.NO),\n",
    "                RandomDihedral(tfm_y=TfmType.NO)]\n",
    "    else:\n",
    "        aug_tfms = [RandomRotate(30, tfm_y=TfmType.NO),\n",
    "                RandomDihedral(tfm_y=TfmType.NO),\n",
    "                RandomLighting(0.05, 0.05, tfm_y=TfmType.NO),\n",
    "                Cutout(n_holes=25, length=10*sz//128, tfm_y=TfmType.NO)]\n",
    "    #mean and std in of each channel in the train set\n",
    "    stats = A([0.08069, 0.05258, 0.05487, 0.08282], [0.13704, 0.10145, 0.15313, 0.13814])\n",
    "    tfms = tfms_from_stats(stats, sz, crop_type=CropType.NO, tfm_y=TfmType.NO, \n",
    "                aug_tfms=aug_tfms)\n",
    "    ds = ImageData.get_ds(pdFilesDataset, (tr_n[:-(len(tr_n)%bs)],TRAIN), \n",
    "                (val_n,TRAIN), tfms, test=(test_names,TEST))\n",
    "    md = ImageData(PATH, ds, bs, num_workers=nw, classes=None)\n",
    "    return md"
   ]
  },
  {
   "cell_type": "code",
   "execution_count": null,
   "id": "7759fe14",
   "metadata": {},
   "outputs": [],
   "source": [
    "bs = 16\n",
    "sz = 256\n",
    "md = get_data(sz,bs,is_test=True)\n",
    "\n",
    "x,y = next(iter(md.aug_dl))\n",
    "x.shape, y.shape"
   ]
  },
  {
   "cell_type": "code",
   "execution_count": null,
   "id": "e6f4c172",
   "metadata": {},
   "outputs": [],
   "source": [
    "def display_imgs(x):\n",
    "    columns = 4\n",
    "    bs = x.shape[0]\n",
    "    rows = min((bs+3)//4,4)\n",
    "    fig=plt.figure(figsize=(columns*4, rows*4))\n",
    "    for i in range(rows):\n",
    "        for j in range(columns):\n",
    "            idx = i+j*columns\n",
    "            fig.add_subplot(rows, columns, idx+1)\n",
    "            plt.axis('off')\n",
    "            plt.imshow((x[idx,:,:,:3]*255).astype(np.int))\n",
    "    plt.show()\n",
    "    \n",
    "display_imgs(np.asarray(md.trn_ds.denorm(x)))"
   ]
  },
  {
   "cell_type": "code",
   "execution_count": null,
   "id": "2986e93d",
   "metadata": {},
   "outputs": [],
   "source": []
  },
  {
   "cell_type": "code",
   "execution_count": null,
   "id": "1e2874fd",
   "metadata": {},
   "outputs": [],
   "source": []
  },
  {
   "cell_type": "code",
   "execution_count": null,
   "id": "f1519eb8",
   "metadata": {},
   "outputs": [],
   "source": []
  },
  {
   "cell_type": "code",
   "execution_count": null,
   "id": "6bb4e667",
   "metadata": {},
   "outputs": [],
   "source": []
  },
  {
   "cell_type": "code",
   "execution_count": null,
   "id": "f6d0fc29",
   "metadata": {},
   "outputs": [],
   "source": []
  },
  {
   "cell_type": "code",
   "execution_count": null,
   "id": "1180704a",
   "metadata": {},
   "outputs": [],
   "source": []
  },
  {
   "cell_type": "code",
   "execution_count": null,
   "id": "8bfb41ad",
   "metadata": {},
   "outputs": [],
   "source": []
  }
 ],
 "metadata": {
  "kernelspec": {
   "display_name": "Python 3 (ipykernel)",
   "language": "python",
   "name": "python3"
  },
  "language_info": {
   "codemirror_mode": {
    "name": "ipython",
    "version": 3
   },
   "file_extension": ".py",
   "mimetype": "text/x-python",
   "name": "python",
   "nbconvert_exporter": "python",
   "pygments_lexer": "ipython3",
   "version": "3.8.13"
  }
 },
 "nbformat": 4,
 "nbformat_minor": 5
}
